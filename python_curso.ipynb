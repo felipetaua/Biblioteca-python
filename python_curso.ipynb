{
  "nbformat": 4,
  "nbformat_minor": 0,
  "metadata": {
    "colab": {
      "provenance": [],
      "collapsed_sections": [
        "zlXKiv-Gffwf",
        "ZBlDcxvpfDj9"
      ],
      "toc_visible": true,
      "authorship_tag": "ABX9TyMPaZj7i3byZQmfQgjkGP9O",
      "include_colab_link": true
    },
    "kernelspec": {
      "name": "python3",
      "display_name": "Python 3"
    },
    "language_info": {
      "name": "python"
    }
  },
  "cells": [
    {
      "cell_type": "markdown",
      "metadata": {
        "id": "view-in-github",
        "colab_type": "text"
      },
      "source": [
        "<a href=\"https://colab.research.google.com/github/felipetaua/Biblioteca-python/blob/main/python_curso.ipynb\" target=\"_parent\"><img src=\"https://colab.research.google.com/assets/colab-badge.svg\" alt=\"Open In Colab\"/></a>"
      ]
    },
    {
      "cell_type": "markdown",
      "source": [
        "#Esse é meu primeiro programa no google colab"
      ],
      "metadata": {
        "id": "zlXKiv-Gffwf"
      }
    },
    {
      "cell_type": "code",
      "execution_count": null,
      "metadata": {
        "colab": {
          "base_uri": "https://localhost:8080/"
        },
        "id": "1wNOfGsSe8Ny",
        "outputId": "37e86f89-cb10-4f07-e1e6-9d26203ad33a"
      },
      "outputs": [
        {
          "output_type": "stream",
          "name": "stdout",
          "text": [
            "Hello Word\n"
          ]
        }
      ],
      "source": [
        "print(\"Hello Word\")"
      ]
    },
    {
      "cell_type": "code",
      "source": [
        "print(\"Esse é meu primeiro programa em Python\")"
      ],
      "metadata": {
        "colab": {
          "base_uri": "https://localhost:8080/"
        },
        "id": "S62f9yFjfVLH",
        "outputId": "c3ba718d-c1c6-41ee-8891-ff9a6079035b"
      },
      "execution_count": null,
      "outputs": [
        {
          "output_type": "stream",
          "name": "stdout",
          "text": [
            "esse é meu primeiro programa em Python\n"
          ]
        }
      ]
    },
    {
      "cell_type": "markdown",
      "source": [],
      "metadata": {
        "id": "-fYwVwuagOAh"
      }
    },
    {
      "cell_type": "markdown",
      "source": [
        "#Operadores Aritméticos"
      ],
      "metadata": {
        "id": "ZBlDcxvpfDj9"
      }
    },
    {
      "cell_type": "markdown",
      "source": [
        "Soma, Subtração, Multiplicação e Divisão\n"
      ],
      "metadata": {
        "id": "aWWuPyEihVM4"
      }
    },
    {
      "cell_type": "markdown",
      "source": [
        "Operador Soma"
      ],
      "metadata": {
        "id": "MVMdiR8Shflz"
      }
    },
    {
      "cell_type": "code",
      "source": [
        "4 + 6"
      ],
      "metadata": {
        "colab": {
          "base_uri": "https://localhost:8080/"
        },
        "id": "Kx2pYO4HfrrQ",
        "outputId": "473ece1c-ac5d-4996-96dc-9249c20d4022"
      },
      "execution_count": null,
      "outputs": [
        {
          "output_type": "execute_result",
          "data": {
            "text/plain": [
              "10"
            ]
          },
          "metadata": {},
          "execution_count": 3
        }
      ]
    },
    {
      "cell_type": "code",
      "source": [
        "2.5 + 3"
      ],
      "metadata": {
        "colab": {
          "base_uri": "https://localhost:8080/"
        },
        "id": "GHAZCYk6gLjM",
        "outputId": "085ce3a7-d29e-4b77-d36a-27f5541d1b75"
      },
      "execution_count": null,
      "outputs": [
        {
          "output_type": "execute_result",
          "data": {
            "text/plain": [
              "5.5"
            ]
          },
          "metadata": {},
          "execution_count": 4
        }
      ]
    },
    {
      "cell_type": "code",
      "source": [
        "2,5"
      ],
      "metadata": {
        "colab": {
          "base_uri": "https://localhost:8080/"
        },
        "id": "Vg2qnW1FgaZa",
        "outputId": "66e7591d-008a-4325-8bca-5f1273cd188c"
      },
      "execution_count": null,
      "outputs": [
        {
          "output_type": "execute_result",
          "data": {
            "text/plain": [
              "(2, 5)"
            ]
          },
          "metadata": {},
          "execution_count": 5
        }
      ]
    },
    {
      "cell_type": "markdown",
      "source": [
        "Subtração"
      ],
      "metadata": {
        "id": "ihKuJe4kgdvl"
      }
    },
    {
      "cell_type": "code",
      "source": [
        "6 - 2"
      ],
      "metadata": {
        "colab": {
          "base_uri": "https://localhost:8080/"
        },
        "id": "Fll9JBWkgghM",
        "outputId": "8a04c81b-1964-4fca-ecaf-547da5f4907a"
      },
      "execution_count": null,
      "outputs": [
        {
          "output_type": "execute_result",
          "data": {
            "text/plain": [
              "4"
            ]
          },
          "metadata": {},
          "execution_count": 6
        }
      ]
    },
    {
      "cell_type": "code",
      "source": [
        "10 - 20"
      ],
      "metadata": {
        "colab": {
          "base_uri": "https://localhost:8080/"
        },
        "id": "HOe90KAagjeW",
        "outputId": "40605886-b431-49f3-b55a-e718d30ea424"
      },
      "execution_count": null,
      "outputs": [
        {
          "output_type": "execute_result",
          "data": {
            "text/plain": [
              "-10"
            ]
          },
          "metadata": {},
          "execution_count": 7
        }
      ]
    },
    {
      "cell_type": "code",
      "source": [
        "20 - 0.5"
      ],
      "metadata": {
        "colab": {
          "base_uri": "https://localhost:8080/"
        },
        "id": "eEIrSSqogn57",
        "outputId": "2aed848b-9aa9-43f7-8ab1-8f9ba366f690"
      },
      "execution_count": null,
      "outputs": [
        {
          "output_type": "execute_result",
          "data": {
            "text/plain": [
              "19.5"
            ]
          },
          "metadata": {},
          "execution_count": 8
        }
      ]
    },
    {
      "cell_type": "markdown",
      "source": [
        "Multiplicação"
      ],
      "metadata": {
        "id": "uSg1DlHugv7W"
      }
    },
    {
      "cell_type": "code",
      "source": [
        "6 * 2"
      ],
      "metadata": {
        "colab": {
          "base_uri": "https://localhost:8080/"
        },
        "id": "4RV5NzlJhi6g",
        "outputId": "bb1d90bd-76da-4207-f5a0-d478d58746b1"
      },
      "execution_count": null,
      "outputs": [
        {
          "output_type": "execute_result",
          "data": {
            "text/plain": [
              "12"
            ]
          },
          "metadata": {},
          "execution_count": 9
        }
      ]
    },
    {
      "cell_type": "code",
      "source": [
        "3.5 * 2"
      ],
      "metadata": {
        "colab": {
          "base_uri": "https://localhost:8080/"
        },
        "id": "9WtgPc8-hpeW",
        "outputId": "a25dd42d-4335-4a8c-bbca-0794dbe0eda8"
      },
      "execution_count": null,
      "outputs": [
        {
          "output_type": "execute_result",
          "data": {
            "text/plain": [
              "7.0"
            ]
          },
          "metadata": {},
          "execution_count": 10
        }
      ]
    },
    {
      "cell_type": "code",
      "source": [
        "-4 * 8"
      ],
      "metadata": {
        "colab": {
          "base_uri": "https://localhost:8080/"
        },
        "id": "lwoOABJ_htAL",
        "outputId": "82fd707b-2e90-4a9f-9d51-d1ebc81f64f0"
      },
      "execution_count": null,
      "outputs": [
        {
          "output_type": "execute_result",
          "data": {
            "text/plain": [
              "-32"
            ]
          },
          "metadata": {},
          "execution_count": 11
        }
      ]
    },
    {
      "cell_type": "markdown",
      "source": [
        "Divisão"
      ],
      "metadata": {
        "id": "wqDPHy7ShxE0"
      }
    },
    {
      "cell_type": "code",
      "source": [
        "10 / 2"
      ],
      "metadata": {
        "colab": {
          "base_uri": "https://localhost:8080/"
        },
        "id": "JX89bh8ahze_",
        "outputId": "9b45cf83-846a-4be2-f053-97120bffb70f"
      },
      "execution_count": null,
      "outputs": [
        {
          "output_type": "execute_result",
          "data": {
            "text/plain": [
              "5.0"
            ]
          },
          "metadata": {},
          "execution_count": 12
        }
      ]
    },
    {
      "cell_type": "code",
      "source": [
        "10 // 3 # retorna aprenas a parte inteira da divsisão"
      ],
      "metadata": {
        "colab": {
          "base_uri": "https://localhost:8080/"
        },
        "id": "-5dRh9u_iDWL",
        "outputId": "78dfa1a5-b836-49c4-c8c5-227d3ff9b104"
      },
      "execution_count": null,
      "outputs": [
        {
          "output_type": "execute_result",
          "data": {
            "text/plain": [
              "3"
            ]
          },
          "metadata": {},
          "execution_count": 13
        }
      ]
    },
    {
      "cell_type": "code",
      "source": [
        "10 % 3 # retorna apenas o resto da divisão"
      ],
      "metadata": {
        "colab": {
          "base_uri": "https://localhost:8080/"
        },
        "id": "ttF-vXBTiM14",
        "outputId": "87ea6eb4-833b-462e-e2ca-c3407f736461"
      },
      "execution_count": null,
      "outputs": [
        {
          "output_type": "execute_result",
          "data": {
            "text/plain": [
              "1"
            ]
          },
          "metadata": {},
          "execution_count": 14
        }
      ]
    },
    {
      "cell_type": "code",
      "source": [
        "10 // 2"
      ],
      "metadata": {
        "colab": {
          "base_uri": "https://localhost:8080/"
        },
        "id": "kZP9BeL-iMcf",
        "outputId": "daf44dad-e6d9-4a85-fe63-9ef373ca8c4e"
      },
      "execution_count": null,
      "outputs": [
        {
          "output_type": "execute_result",
          "data": {
            "text/plain": [
              "5"
            ]
          },
          "metadata": {},
          "execution_count": 15
        }
      ]
    },
    {
      "cell_type": "markdown",
      "source": [
        "#Operadores Lógicos\n",
        "\n",
        "Estes operadores retornam como respostas apenas duas possibilidades:\n",
        "\n",
        "True\n",
        "False\n",
        "São eles: Maior, maior igual, menor igual, igualdade e diferente"
      ],
      "metadata": {
        "id": "lDGn80JVigsk"
      }
    },
    {
      "cell_type": "markdown",
      "source": [
        "Maior que (>)"
      ],
      "metadata": {
        "id": "Cfkp2aFSjzlv"
      }
    },
    {
      "cell_type": "code",
      "source": [
        "8 > 4"
      ],
      "metadata": {
        "colab": {
          "base_uri": "https://localhost:8080/"
        },
        "id": "H2gf6CR_kJTq",
        "outputId": "a27778c7-9783-4a58-f2d6-5b99f45d665a"
      },
      "execution_count": null,
      "outputs": [
        {
          "output_type": "execute_result",
          "data": {
            "text/plain": [
              "True"
            ]
          },
          "metadata": {},
          "execution_count": 16
        }
      ]
    },
    {
      "cell_type": "code",
      "source": [
        "8 > 8"
      ],
      "metadata": {
        "colab": {
          "base_uri": "https://localhost:8080/"
        },
        "id": "vlZaSuaqki0Y",
        "outputId": "335bc6ca-e3de-4749-d1ac-38f4d17f3d40"
      },
      "execution_count": null,
      "outputs": [
        {
          "output_type": "execute_result",
          "data": {
            "text/plain": [
              "False"
            ]
          },
          "metadata": {},
          "execution_count": 20
        }
      ]
    },
    {
      "cell_type": "code",
      "source": [
        "10 < 5"
      ],
      "metadata": {
        "colab": {
          "base_uri": "https://localhost:8080/"
        },
        "id": "YQVzk1sLkQsG",
        "outputId": "ebd6abdf-dd47-4b06-926b-4bf903811d7a"
      },
      "execution_count": null,
      "outputs": [
        {
          "output_type": "execute_result",
          "data": {
            "text/plain": [
              "False"
            ]
          },
          "metadata": {},
          "execution_count": 17
        }
      ]
    },
    {
      "cell_type": "markdown",
      "source": [
        "Maior igual (>=)"
      ],
      "metadata": {
        "id": "2VouX-y5j3dP"
      }
    },
    {
      "cell_type": "code",
      "source": [
        "8 > 4"
      ],
      "metadata": {
        "colab": {
          "base_uri": "https://localhost:8080/"
        },
        "id": "1e5dH2F9kXHl",
        "outputId": "6c939d65-a548-43bc-b3b0-727f0b9ea410"
      },
      "execution_count": null,
      "outputs": [
        {
          "output_type": "execute_result",
          "data": {
            "text/plain": [
              "True"
            ]
          },
          "metadata": {},
          "execution_count": 18
        }
      ]
    },
    {
      "cell_type": "code",
      "source": [
        "8 >= 8"
      ],
      "metadata": {
        "colab": {
          "base_uri": "https://localhost:8080/"
        },
        "id": "IUutSOE2kbj_",
        "outputId": "b25b4d4b-9906-46c0-f0ef-a74adb08b8a2"
      },
      "execution_count": null,
      "outputs": [
        {
          "output_type": "execute_result",
          "data": {
            "text/plain": [
              "True"
            ]
          },
          "metadata": {},
          "execution_count": 19
        }
      ]
    },
    {
      "cell_type": "markdown",
      "source": [
        "Menor que (<)"
      ],
      "metadata": {
        "id": "SJAzzDpaj8UZ"
      }
    },
    {
      "cell_type": "code",
      "source": [
        "10 < 20"
      ],
      "metadata": {
        "colab": {
          "base_uri": "https://localhost:8080/"
        },
        "id": "lULF5vDDkmJs",
        "outputId": "d0c159a6-f3a6-4c88-9cb5-32448b9eaa4e"
      },
      "execution_count": null,
      "outputs": [
        {
          "output_type": "execute_result",
          "data": {
            "text/plain": [
              "True"
            ]
          },
          "metadata": {},
          "execution_count": 21
        }
      ]
    },
    {
      "cell_type": "code",
      "source": [
        "10 < 10"
      ],
      "metadata": {
        "colab": {
          "base_uri": "https://localhost:8080/"
        },
        "id": "Hwe5nYQ4ktsF",
        "outputId": "2589c1f5-0aab-4564-db4f-361c0b9f97f4"
      },
      "execution_count": null,
      "outputs": [
        {
          "output_type": "execute_result",
          "data": {
            "text/plain": [
              "False"
            ]
          },
          "metadata": {},
          "execution_count": 22
        }
      ]
    },
    {
      "cell_type": "code",
      "source": [
        "20 < 21"
      ],
      "metadata": {
        "colab": {
          "base_uri": "https://localhost:8080/"
        },
        "id": "FYDmRwsjkw1H",
        "outputId": "c853ab7b-bd9f-4a49-955b-cb084acd2662"
      },
      "execution_count": null,
      "outputs": [
        {
          "output_type": "execute_result",
          "data": {
            "text/plain": [
              "True"
            ]
          },
          "metadata": {},
          "execution_count": 23
        }
      ]
    },
    {
      "cell_type": "markdown",
      "source": [
        "Menor igual (<=)"
      ],
      "metadata": {
        "id": "o_JHjmF8k6wY"
      }
    },
    {
      "cell_type": "code",
      "source": [
        "20 <= 20"
      ],
      "metadata": {
        "colab": {
          "base_uri": "https://localhost:8080/"
        },
        "id": "a0xihdRuk35c",
        "outputId": "ffc8a410-a2b7-4edd-9ce7-2364af72f6b1"
      },
      "execution_count": null,
      "outputs": [
        {
          "output_type": "execute_result",
          "data": {
            "text/plain": [
              "True"
            ]
          },
          "metadata": {},
          "execution_count": 24
        }
      ]
    },
    {
      "cell_type": "markdown",
      "source": [
        "igualdade (==)"
      ],
      "metadata": {
        "id": "QZSNqFd_kAXy"
      }
    },
    {
      "cell_type": "code",
      "source": [
        "5 == 5"
      ],
      "metadata": {
        "colab": {
          "base_uri": "https://localhost:8080/"
        },
        "id": "Hk_o6B0jlAhN",
        "outputId": "b17b4144-8dae-4460-c07b-e1a19fc42424"
      },
      "execution_count": null,
      "outputs": [
        {
          "output_type": "execute_result",
          "data": {
            "text/plain": [
              "True"
            ]
          },
          "metadata": {},
          "execution_count": 25
        }
      ]
    },
    {
      "cell_type": "code",
      "source": [
        "5 == 6"
      ],
      "metadata": {
        "colab": {
          "base_uri": "https://localhost:8080/"
        },
        "id": "Plts3kYtlEdQ",
        "outputId": "3366b668-71a4-48c2-827b-a20cdb92eb68"
      },
      "execution_count": null,
      "outputs": [
        {
          "output_type": "execute_result",
          "data": {
            "text/plain": [
              "False"
            ]
          },
          "metadata": {},
          "execution_count": 26
        }
      ]
    },
    {
      "cell_type": "markdown",
      "source": [
        "Diferente (!=)"
      ],
      "metadata": {
        "id": "VPAu9VQukFDN"
      }
    },
    {
      "cell_type": "code",
      "source": [
        "5 != 6"
      ],
      "metadata": {
        "colab": {
          "base_uri": "https://localhost:8080/"
        },
        "id": "8SE1g_ZslNWd",
        "outputId": "18b51ab3-07df-4a70-c068-499c532765e6"
      },
      "execution_count": null,
      "outputs": [
        {
          "output_type": "execute_result",
          "data": {
            "text/plain": [
              "True"
            ]
          },
          "metadata": {},
          "execution_count": 28
        }
      ]
    },
    {
      "cell_type": "code",
      "source": [
        "5 != 5"
      ],
      "metadata": {
        "colab": {
          "base_uri": "https://localhost:8080/"
        },
        "id": "E9i-7HL3lJak",
        "outputId": "0b74ddff-03eb-42ab-a5b4-db7923e5028e"
      },
      "execution_count": null,
      "outputs": [
        {
          "output_type": "execute_result",
          "data": {
            "text/plain": [
              "False"
            ]
          },
          "metadata": {},
          "execution_count": 27
        }
      ]
    },
    {
      "cell_type": "markdown",
      "source": [
        "# Variáveis\n",
        "\n",
        "* Variáveis são lugares de memoria que irão armazenar um dado\n",
        "* <nome da variável> = <dado ou expressão>\n",
        "* seu nome pode ter letra maiúscula, minúscula e o sublinhado\n",
        "* não se deve começar com um numero\n",
        "* **Sempre dar um nome significativo, por exemplo item é melhor que apenas I**\n",
        "* para nomes com mais de palavras separe-as com o sublinhado ou use maiúculas e minúsculas, exemplo(minhaTemp, corFor)\n",
        "* evite nome muito longo"
      ],
      "metadata": {
        "id": "P9T3D6GtlfXE"
      }
    },
    {
      "cell_type": "code",
      "source": [
        "x = 7"
      ],
      "metadata": {
        "id": "oOfQfhMmmfCO"
      },
      "execution_count": null,
      "outputs": []
    },
    {
      "cell_type": "code",
      "source": [
        "x"
      ],
      "metadata": {
        "colab": {
          "base_uri": "https://localhost:8080/"
        },
        "id": "TuPTskVRmivC",
        "outputId": "836fde7b-93d0-482c-b856-85173883f0ba"
      },
      "execution_count": null,
      "outputs": [
        {
          "output_type": "execute_result",
          "data": {
            "text/plain": [
              "7"
            ]
          },
          "metadata": {},
          "execution_count": 30
        }
      ]
    },
    {
      "cell_type": "code",
      "source": [
        "x + 3"
      ],
      "metadata": {
        "colab": {
          "base_uri": "https://localhost:8080/"
        },
        "id": "gGDs4JkZmj6-",
        "outputId": "bbb891b8-6ffb-42ae-cb08-a1ee0d69bf0a"
      },
      "execution_count": null,
      "outputs": [
        {
          "output_type": "execute_result",
          "data": {
            "text/plain": [
              "10"
            ]
          },
          "metadata": {},
          "execution_count": 31
        }
      ]
    },
    {
      "cell_type": "code",
      "source": [
        "x + x"
      ],
      "metadata": {
        "colab": {
          "base_uri": "https://localhost:8080/"
        },
        "id": "yAHTGIpammom",
        "outputId": "1496618a-99f0-43aa-985e-514efc935c5b"
      },
      "execution_count": null,
      "outputs": [
        {
          "output_type": "execute_result",
          "data": {
            "text/plain": [
              "14"
            ]
          },
          "metadata": {},
          "execution_count": 32
        }
      ]
    },
    {
      "cell_type": "code",
      "source": [
        "X # erro pois a variável declarado foi um x minúsculo e não maiúsculo"
      ],
      "metadata": {
        "colab": {
          "base_uri": "https://localhost:8080/",
          "height": 141
        },
        "id": "R-3wg1dLm0J0",
        "outputId": "1f5594c3-0779-4713-aa8c-12786ab19520"
      },
      "execution_count": null,
      "outputs": [
        {
          "output_type": "error",
          "ename": "NameError",
          "evalue": "name 'X' is not defined",
          "traceback": [
            "\u001b[0;31m---------------------------------------------------------------------------\u001b[0m",
            "\u001b[0;31mNameError\u001b[0m                                 Traceback (most recent call last)",
            "\u001b[0;32m<ipython-input-33-b5fec669aca1>\u001b[0m in \u001b[0;36m<cell line: 0>\u001b[0;34m()\u001b[0m\n\u001b[0;32m----> 1\u001b[0;31m \u001b[0mX\u001b[0m\u001b[0;34m\u001b[0m\u001b[0;34m\u001b[0m\u001b[0m\n\u001b[0m",
            "\u001b[0;31mNameError\u001b[0m: name 'X' is not defined"
          ]
        }
      ]
    },
    {
      "cell_type": "code",
      "source": [
        "var_temp = 12"
      ],
      "metadata": {
        "id": "tYZDZkS9nQ0d"
      },
      "execution_count": null,
      "outputs": []
    },
    {
      "cell_type": "code",
      "source": [
        "varTemp = 24"
      ],
      "metadata": {
        "id": "yGf-K-g-nUta"
      },
      "execution_count": null,
      "outputs": []
    },
    {
      "cell_type": "code",
      "source": [
        "y = x + 8"
      ],
      "metadata": {
        "id": "8nXC7RjunmY5"
      },
      "execution_count": null,
      "outputs": []
    },
    {
      "cell_type": "code",
      "source": [
        "y"
      ],
      "metadata": {
        "colab": {
          "base_uri": "https://localhost:8080/",
          "height": 141
        },
        "id": "BjrAJaRlnrVN",
        "outputId": "b7318875-d419-434c-eef0-51c4bf849375"
      },
      "execution_count": null,
      "outputs": [
        {
          "output_type": "error",
          "ename": "NameError",
          "evalue": "name 'y' is not defined",
          "traceback": [
            "\u001b[0;31m---------------------------------------------------------------------------\u001b[0m",
            "\u001b[0;31mNameError\u001b[0m                                 Traceback (most recent call last)",
            "\u001b[0;32m<ipython-input-1-9063a9f0e032>\u001b[0m in \u001b[0;36m<cell line: 0>\u001b[0;34m()\u001b[0m\n\u001b[0;32m----> 1\u001b[0;31m \u001b[0my\u001b[0m\u001b[0;34m\u001b[0m\u001b[0;34m\u001b[0m\u001b[0m\n\u001b[0m",
            "\u001b[0;31mNameError\u001b[0m: name 'y' is not defined"
          ]
        }
      ]
    },
    {
      "cell_type": "markdown",
      "source": [
        "#Funções Built-in\n",
        "\n",
        "São funções nativas do Python. Voce pode ver uma lista completa de todas elas no link: [click](https://docs.python.org/3/library/functions.html). Vamos estudar algumas:"
      ],
      "metadata": {
        "id": "0zzLMTgJ223M"
      }
    },
    {
      "cell_type": "markdown",
      "source": [
        "abs() -> retorna o valor absoluto do numero"
      ],
      "metadata": {
        "id": "UAqSLGKR3B2Q"
      }
    },
    {
      "cell_type": "code",
      "source": [
        "abs(-9)"
      ],
      "metadata": {
        "colab": {
          "base_uri": "https://localhost:8080/"
        },
        "id": "eYSyLQdG4dbz",
        "outputId": "a2f31b8d-d83e-4f7a-b606-d159c2611e2d"
      },
      "execution_count": null,
      "outputs": [
        {
          "output_type": "execute_result",
          "data": {
            "text/plain": [
              "9"
            ]
          },
          "metadata": {},
          "execution_count": 1
        }
      ]
    },
    {
      "cell_type": "markdown",
      "source": [
        "min()-> retorna o valor minimo de uma sequência"
      ],
      "metadata": {
        "id": "o3UsQJb63JCa"
      }
    },
    {
      "cell_type": "code",
      "source": [
        "menorPreco = min(8,3,5,6)\n",
        "\n",
        "menorPreco"
      ],
      "metadata": {
        "colab": {
          "base_uri": "https://localhost:8080/"
        },
        "id": "CO-T-2E_4ehl",
        "outputId": "04919781-5457-4582-ab32-b94dc1feb574"
      },
      "execution_count": null,
      "outputs": [
        {
          "output_type": "execute_result",
          "data": {
            "text/plain": [
              "3"
            ]
          },
          "metadata": {},
          "execution_count": 4
        }
      ]
    },
    {
      "cell_type": "markdown",
      "source": [
        "max()-> retorna o valor maximo de uma sequência"
      ],
      "metadata": {
        "id": "FU2PFptH3SNQ"
      }
    },
    {
      "cell_type": "code",
      "source": [
        "maxPreco = max(8,3,5,6)\n",
        "\n",
        "maxPreco"
      ],
      "metadata": {
        "colab": {
          "base_uri": "https://localhost:8080/"
        },
        "id": "RMiJE5ht4gPl",
        "outputId": "ae0a279d-75c0-4ec5-b7c5-d890a54a370d"
      },
      "execution_count": null,
      "outputs": [
        {
          "output_type": "execute_result",
          "data": {
            "text/plain": [
              "8"
            ]
          },
          "metadata": {},
          "execution_count": 6
        }
      ]
    },
    {
      "cell_type": "markdown",
      "source": [
        "sum()-> faz a soma dos valores de uma sequência"
      ],
      "metadata": {
        "id": "yX4LuCKX3Z1Y"
      }
    },
    {
      "cell_type": "code",
      "source": [
        "somaTotal = sum([1,2,3])\n",
        "\n",
        "somaTotal"
      ],
      "metadata": {
        "colab": {
          "base_uri": "https://localhost:8080/"
        },
        "id": "VdmY1cMF4hLm",
        "outputId": "9f9e40f3-0a82-42b6-c8f7-775cac815f20"
      },
      "execution_count": null,
      "outputs": [
        {
          "output_type": "execute_result",
          "data": {
            "text/plain": [
              "6"
            ]
          },
          "metadata": {},
          "execution_count": 7
        }
      ]
    },
    {
      "cell_type": "markdown",
      "source": [
        "pow()->exponenciação"
      ],
      "metadata": {
        "id": "LOqOPmJu3mT7"
      }
    },
    {
      "cell_type": "code",
      "source": [
        "2**3"
      ],
      "metadata": {
        "colab": {
          "base_uri": "https://localhost:8080/"
        },
        "id": "MSG1gjge4iGh",
        "outputId": "c3d37cac-1e01-4ac5-dd2b-c4f6b3c82db3"
      },
      "execution_count": null,
      "outputs": [
        {
          "output_type": "execute_result",
          "data": {
            "text/plain": [
              "8"
            ]
          },
          "metadata": {},
          "execution_count": 8
        }
      ]
    },
    {
      "cell_type": "code",
      "source": [
        "pow(2,3)"
      ],
      "metadata": {
        "colab": {
          "base_uri": "https://localhost:8080/"
        },
        "id": "FjbO6gtq6Anu",
        "outputId": "7ecfead5-b69f-45fb-af11-88b2a3c930c1"
      },
      "execution_count": null,
      "outputs": [
        {
          "output_type": "execute_result",
          "data": {
            "text/plain": [
              "8"
            ]
          },
          "metadata": {},
          "execution_count": 9
        }
      ]
    },
    {
      "cell_type": "markdown",
      "source": [
        "print()-> mostra um valor na saida"
      ],
      "metadata": {
        "id": "uQUrtoPt5kl1"
      }
    },
    {
      "cell_type": "code",
      "source": [
        "print(\"Olá esse é meu texto\")"
      ],
      "metadata": {
        "colab": {
          "base_uri": "https://localhost:8080/"
        },
        "id": "3qRfiYFU5pnH",
        "outputId": "bab10cd8-1263-4b14-e293-1120a17b9d41"
      },
      "execution_count": null,
      "outputs": [
        {
          "output_type": "stream",
          "name": "stdout",
          "text": [
            "Olá esse é meu texto\n"
          ]
        }
      ]
    },
    {
      "cell_type": "code",
      "source": [
        "print(somaTotal)"
      ],
      "metadata": {
        "colab": {
          "base_uri": "https://localhost:8080/"
        },
        "id": "AnMEfdbT6LT5",
        "outputId": "5f44d6d5-1e1b-40db-aaf2-e13ff698656a"
      },
      "execution_count": null,
      "outputs": [
        {
          "output_type": "stream",
          "name": "stdout",
          "text": [
            "6\n"
          ]
        }
      ]
    },
    {
      "cell_type": "markdown",
      "source": [
        "input()-> lê um valor digitado no teclado pelo usuário"
      ],
      "metadata": {
        "id": "eeAyC9l25qMJ"
      }
    },
    {
      "cell_type": "code",
      "source": [
        "nome = input(\"Qual seu nome? \")"
      ],
      "metadata": {
        "colab": {
          "base_uri": "https://localhost:8080/"
        },
        "id": "db4hFnAS5wU_",
        "outputId": "2d7cce05-5b90-4e47-c016-e824eecb6c49"
      },
      "execution_count": null,
      "outputs": [
        {
          "name": "stdout",
          "output_type": "stream",
          "text": [
            "Qual seu nome?Tauã\n"
          ]
        }
      ]
    },
    {
      "cell_type": "code",
      "source": [
        "print(nome)"
      ],
      "metadata": {
        "colab": {
          "base_uri": "https://localhost:8080/"
        },
        "id": "-7V8aRuZ6kLK",
        "outputId": "a746e375-2842-4681-d161-4cc6e4673028"
      },
      "execution_count": null,
      "outputs": [
        {
          "output_type": "stream",
          "name": "stdout",
          "text": [
            "Tauã\n"
          ]
        }
      ]
    },
    {
      "cell_type": "markdown",
      "source": [
        "help()->mostra as funcionalidades de uma determinada função"
      ],
      "metadata": {
        "id": "FrfPkQZE5wxz"
      }
    },
    {
      "cell_type": "code",
      "source": [
        "help(max)"
      ],
      "metadata": {
        "colab": {
          "base_uri": "https://localhost:8080/"
        },
        "id": "m6Mh65Ba6vBz",
        "outputId": "21e860c7-c3a5-422b-e762-5f9b4291cbc6"
      },
      "execution_count": null,
      "outputs": [
        {
          "output_type": "stream",
          "name": "stdout",
          "text": [
            "Help on built-in function max in module builtins:\n",
            "\n",
            "max(...)\n",
            "    max(iterable, *[, default=obj, key=func]) -> value\n",
            "    max(arg1, arg2, *args, *[, key=func]) -> value\n",
            "    \n",
            "    With a single iterable argument, return its biggest item. The\n",
            "    default keyword-only argument specifies an object to return if\n",
            "    the provided iterable is empty.\n",
            "    With two or more arguments, return the largest argument.\n",
            "\n"
          ]
        }
      ]
    },
    {
      "cell_type": "code",
      "source": [
        "help(sum)"
      ],
      "metadata": {
        "colab": {
          "base_uri": "https://localhost:8080/"
        },
        "id": "wWu4FP-r62ma",
        "outputId": "a630303d-1c29-4dad-dcbc-9d62db7d6724"
      },
      "execution_count": null,
      "outputs": [
        {
          "output_type": "stream",
          "name": "stdout",
          "text": [
            "Help on built-in function sum in module builtins:\n",
            "\n",
            "sum(iterable, /, start=0)\n",
            "    Return the sum of a 'start' value (default: 0) plus an iterable of numbers\n",
            "    \n",
            "    When the iterable is empty, return the start value.\n",
            "    This function is intended specifically for use with numeric values and may\n",
            "    reject non-numeric types.\n",
            "\n"
          ]
        }
      ]
    },
    {
      "cell_type": "markdown",
      "source": [
        "#Exercicios para Praticar"
      ],
      "metadata": {
        "id": "Go9y553_7MAn"
      }
    },
    {
      "cell_type": "markdown",
      "source": [
        "Calcule a soma dos numeros do 10 ao 14"
      ],
      "metadata": {
        "id": "tjJbzBtP7Q2O"
      }
    },
    {
      "cell_type": "code",
      "source": [
        "10 + 11 + 12 + 13 + 14"
      ],
      "metadata": {
        "colab": {
          "base_uri": "https://localhost:8080/"
        },
        "id": "R3RnaaGN_ZMH",
        "outputId": "c0b2a514-943a-4b04-c8ca-4227bc2c8d5c"
      },
      "execution_count": null,
      "outputs": [
        {
          "output_type": "execute_result",
          "data": {
            "text/plain": [
              "60"
            ]
          },
          "metadata": {},
          "execution_count": 32
        }
      ]
    },
    {
      "cell_type": "code",
      "source": [
        "somaNum = sum([10,11,12,13,14])\n",
        "\n",
        "print(\"A soma dos numeros é\", somaNum)"
      ],
      "metadata": {
        "colab": {
          "base_uri": "https://localhost:8080/"
        },
        "id": "6WQQu_Yc7VbA",
        "outputId": "f5f826e4-e2f2-4da0-d556-06279044a9cd"
      },
      "execution_count": null,
      "outputs": [
        {
          "output_type": "stream",
          "name": "stdout",
          "text": [
            "A soma dos numeros é 60\n"
          ]
        }
      ]
    },
    {
      "cell_type": "markdown",
      "source": [
        "Calcule a média entre os numeros 10, 15 e 20"
      ],
      "metadata": {
        "id": "dU6LhCC77Vt9"
      }
    },
    {
      "cell_type": "code",
      "source": [
        "media = (10 + 15 + 20) / 3\n",
        "\n",
        "print(\"A média dessas notas são\", media)"
      ],
      "metadata": {
        "colab": {
          "base_uri": "https://localhost:8080/"
        },
        "id": "90oG5Jmo7bFV",
        "outputId": "420ffc0a-a129-4f67-868d-122afc2ea655"
      },
      "execution_count": null,
      "outputs": [
        {
          "output_type": "stream",
          "name": "stdout",
          "text": [
            "A média dessa lista é 15.0\n"
          ]
        }
      ]
    },
    {
      "cell_type": "markdown",
      "source": [
        "Peça para o usuario digitar duas notas de zero a dez e os pesos das notas e calcule a média ponderada entre elas.\n",
        "Exemplo: media = (nota1 + peso1 + peso2) / (peso2 + peso2)\n",
        "\n",
        "lembrando que a soma dos pesos precisa ser dez"
      ],
      "metadata": {
        "id": "1i8EI5fX7bv3"
      }
    },
    {
      "cell_type": "code",
      "source": [
        "#Como o campo input retorna str (text)\n",
        "# e para conseguir utilizar os operadores precisamos que os valores sejam int,\n",
        "# precisamos converter existem formas de fazer isso\n",
        "nota = input('Digite a primeira nota: ')\n",
        "\n",
        "#verifica qual tipo esta saindo\n",
        "type(nota)"
      ],
      "metadata": {
        "id": "5K19OLb_Brzf"
      },
      "execution_count": null,
      "outputs": []
    },
    {
      "cell_type": "code",
      "source": [
        "\n",
        "nota1 = int(input(\"Digite a primeira nota:\"))\n",
        "nota2 = int(input(\"Digite a segunda nota:\"))\n",
        "\n",
        "peso1 = int(input(\"Digite o peso da primeira nota:\"))\n",
        "peso2 = int(input(\"Digite o peso da segunda nota:\"))\n",
        "\n",
        "media = (int(nota1 * peso1 + nota2 * peso2) / (peso1 + peso2))\n",
        "\n",
        "print(f'Sua média é:  {media}')"
      ],
      "metadata": {
        "colab": {
          "base_uri": "https://localhost:8080/"
        },
        "id": "cfkoT4wZ71Os",
        "outputId": "2060d0e6-8703-4076-b0dd-ef1296e7ff31"
      },
      "execution_count": null,
      "outputs": [
        {
          "output_type": "stream",
          "name": "stdout",
          "text": [
            "Digite a primeira nota:4\n",
            "Digite a segunda nota:9\n",
            "Digite o peso da primeira nota:10\n",
            "Digite o peso da segunda nota:10\n",
            "Sua média é:  6.5\n"
          ]
        }
      ]
    },
    {
      "cell_type": "code",
      "source": [
        "notaA = input(\"Digite a primeira nota:\")\n",
        "notaA = eval(notaA)\n",
        "\n",
        "notaB = input(\"Digite a segunda nota:\")\n",
        "notaB = eval(notaB)\n",
        "\n",
        "pesoA = input(\"Digite o peso da primeira nota:\")\n",
        "pesoA = eval(pesoA)\n",
        "\n",
        "pesoB = input(\"Digite o peso da segunda nota:\")\n",
        "pesoB = eval(pesoB)\n",
        "\n",
        "\n",
        "mediaNota = (notaA * pesoA + notaB * pesoB) / (pesoA + pesoB)\n",
        "\n",
        "print(f'Sua média é: {mediaNota}')"
      ],
      "metadata": {
        "colab": {
          "base_uri": "https://localhost:8080/"
        },
        "id": "N-jaSQZzCXag",
        "outputId": "21e620ee-47e8-46d9-d23d-a570e8621e69"
      },
      "execution_count": null,
      "outputs": [
        {
          "output_type": "stream",
          "name": "stdout",
          "text": [
            "Digite a primeira nota:10\n",
            "Digite a segunda nota:10\n",
            "Digite o peso da primeira nota:10\n",
            "Digite o peso da segunda nota:5\n",
            "Sua média é: 10.0\n"
          ]
        }
      ]
    },
    {
      "cell_type": "markdown",
      "source": [
        "Qual o menor preço dessa lista?\n",
        "Preços: R\\$100.20, R\\$34.90, R\\$31.50, R\\$18.95"
      ],
      "metadata": {
        "id": "IBNm766I71mU"
      }
    },
    {
      "cell_type": "code",
      "source": [
        "menorPreco = min(100.20, 34.90, 31.50, 18.95)\n",
        "\n",
        "menorPreco"
      ],
      "metadata": {
        "colab": {
          "base_uri": "https://localhost:8080/"
        },
        "id": "SSmzVknf8NrJ",
        "outputId": "72699c57-ae9d-4e01-f226-aa8c96469a57"
      },
      "execution_count": null,
      "outputs": [
        {
          "output_type": "execute_result",
          "data": {
            "text/plain": [
              "18.95"
            ]
          },
          "metadata": {},
          "execution_count": 31
        }
      ]
    },
    {
      "cell_type": "markdown",
      "source": [
        "Avalie se o número digitado pelo usuário é par ou ímpar. Se for par a saida deve mostrar **True**, se impar deverá mostrar **False**"
      ],
      "metadata": {
        "id": "-O-Frz9XAIuz"
      }
    },
    {
      "cell_type": "code",
      "source": [
        "numeroUser = int(input(\"Digite um numero \"))\n",
        "\n",
        "if(numeroUser % 2 == 0):\n",
        "  print(\"True\")\n",
        "else :\n",
        "  print(\"False\")"
      ],
      "metadata": {
        "colab": {
          "base_uri": "https://localhost:8080/"
        },
        "id": "BOzHI39nAeZ3",
        "outputId": "a7beab22-ed86-4329-8bc7-26ab14bc8992"
      },
      "execution_count": null,
      "outputs": [
        {
          "name": "stdout",
          "output_type": "stream",
          "text": [
            "Digite um numero 2\n"
          ]
        },
        {
          "output_type": "execute_result",
          "data": {
            "text/plain": [
              "0"
            ]
          },
          "metadata": {},
          "execution_count": 44
        }
      ]
    },
    {
      "cell_type": "markdown",
      "source": [
        "Verifique se o menor preço dessa lista é **menor** que R\\%20,00\n",
        "\n",
        "Preços: R\\$100.20, R\\$34.90, R\\$31.50, R\\$18.95"
      ],
      "metadata": {
        "id": "yAhqLoWIF7Ch"
      }
    },
    {
      "cell_type": "code",
      "source": [
        "minPreco = min(100.20, 34.90, 31.50, 18.95)\n",
        "\n",
        "if(minPreco < 20):\n",
        "  print(\"True\")\n",
        "else:\n",
        "  print(\"False\")"
      ],
      "metadata": {
        "id": "0IUIaCxaGws-"
      },
      "execution_count": null,
      "outputs": []
    },
    {
      "cell_type": "markdown",
      "source": [
        "Faça um programa que converta a temperatura em graus Farenheit fornecida pelo usuarios em graus Celcius.\n",
        "celcius = (5/9) * (farenheit - 32)"
      ],
      "metadata": {
        "id": "0s0Jye04GZnr"
      }
    },
    {
      "cell_type": "code",
      "source": [
        "firenheit = 32\n",
        "\n",
        "celcius = (5/9) * (firenheit - 32)\n",
        "\n",
        "print(f'A temperatura em celcius é: {celcius}')\n"
      ],
      "metadata": {
        "id": "RnxpXp5nGv5n"
      },
      "execution_count": null,
      "outputs": []
    }
  ]
}